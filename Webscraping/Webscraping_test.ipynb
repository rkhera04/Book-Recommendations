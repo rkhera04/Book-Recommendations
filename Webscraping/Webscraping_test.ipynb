{
 "cells": [
  {
   "cell_type": "code",
   "execution_count": 1,
   "id": "c61b61fc-4c55-44ec-809b-6180d37a1c5a",
   "metadata": {},
   "outputs": [],
   "source": [
    "from selenium import webdriver\n",
    "from selenium.webdriver.common.by import By\n",
    "from selenium.webdriver.support.ui import WebDriverWait\n",
    "from selenium.webdriver.support import expected_conditions as EC\n",
    "from selenium.common.exceptions import TimeoutException\n",
    "from bs4 import BeautifulSoup\n",
    "import requests\n",
    "import pandas as pd\n"
   ]
  },
  {
   "cell_type": "code",
   "execution_count": 2,
   "id": "cadfe2bd",
   "metadata": {},
   "outputs": [],
   "source": [
    "def getTitles(end_page): \n",
    "    result = {}\n",
    "    for i in range(1, end_page):\n",
    "        url = \"https://westlafayette.evergreenindiana.org/Search/Results?lookfor=&searchIndex=Keyword&filter[]=format_category%3A%22Books%22&filter[]=availability_toggle%3A%22local%22&sort=relevance&view=list&searchSource=local&page=\" + str(i)\n",
    "        response = requests.get(url)\n",
    "        response = response.content\n",
    "        soup = BeautifulSoup(response, 'html.parser')\n",
    "        all_books_on_page = soup.find('div', id=\"searchInfo\")\n",
    "        books = all_books_on_page.find_all('h3')\n",
    "        for book in books:\n",
    "            title = book.find('a')\n",
    "            name = title.attrs['aria-label']\n",
    "            link = title.attrs['href']\n",
    "            result[name] = \"https://westlafayette.evergreenindiana.org\" + link\n",
    "    return result"
   ]
  },
  {
   "cell_type": "code",
   "execution_count": 3,
   "id": "635783ac",
   "metadata": {},
   "outputs": [],
   "source": [
    "test_descs = getTitles(2)"
   ]
  },
  {
   "cell_type": "code",
   "execution_count": 4,
   "id": "7bf8aa38",
   "metadata": {},
   "outputs": [
    {
     "data": {
      "text/plain": [
       "{'Three_hundred_years_of_American_painting ': 'https://westlafayette.evergreenindiana.org/GroupedWork/3bcaec5a-f468-90db-5e29-87890fb8154e-eng/Home?searchId=2655868&recordIndex=1&page=1&searchSource=local&referred=resultIndex',\n",
       " 'Consumer_reports ': 'https://westlafayette.evergreenindiana.org/GroupedWork/8969895c-8a91-50c3-d95c-d9e4917b9412-eng/Home?searchId=2655868&recordIndex=2&page=1&searchSource=local&referred=resultIndex',\n",
       " 'The_Friday_afternoon_club  a_family_memoir': 'https://westlafayette.evergreenindiana.org/GroupedWork/13b988e6-ef19-273d-5be0-5ca63934f349-eng/Home?searchId=2655868&recordIndex=3&page=1&searchSource=local&referred=resultIndex',\n",
       " 'Home_is_where_the_bodies_are ': 'https://westlafayette.evergreenindiana.org/GroupedWork/688fcb45-64fb-d2d3-ee66-a6089863d0c3-eng/Home?searchId=2655868&recordIndex=4&page=1&searchSource=local&referred=resultIndex',\n",
       " 'My_brilliant_friend ': 'https://westlafayette.evergreenindiana.org/GroupedWork/9b669425-818f-ba33-312f-e0aa2e0e24e4-eng/Home?searchId=2655868&recordIndex=5&page=1&searchSource=local&referred=resultIndex',\n",
       " 'Long_Island_compromise  a_novel': 'https://westlafayette.evergreenindiana.org/GroupedWork/779b5b63-d7c8-75cb-f3a8-eb3401a5e10a-eng/Home?searchId=2655868&recordIndex=6&page=1&searchSource=local&referred=resultIndex',\n",
       " 'The_psychology_of_money  timeless_lessons_on_wealth__greed__and_happiness': 'https://westlafayette.evergreenindiana.org/GroupedWork/c12e0381-04bf-be8f-72f6-32cd317f69b0-eng/Home?searchId=2655868&recordIndex=7&page=1&searchSource=local&referred=resultIndex',\n",
       " 'The_48_laws_of_power ': 'https://westlafayette.evergreenindiana.org/GroupedWork/ab6e70f1-cfb4-520e-a4a9-14c9f1e8f4b4-eng/Home?searchId=2655868&recordIndex=8&page=1&searchSource=local&referred=resultIndex',\n",
       " 'The_lion_women_of_Tehran ': 'https://westlafayette.evergreenindiana.org/GroupedWork/c114908d-7a65-ad5a-4b04-404bd447d4bb-eng/Home?searchId=2655868&recordIndex=9&page=1&searchSource=local&referred=resultIndex',\n",
       " 'You_are_here  a_novel': 'https://westlafayette.evergreenindiana.org/GroupedWork/dbc512e1-8067-aa0f-64b3-402a90b65fbf-eng/Home?searchId=2655868&recordIndex=10&page=1&searchSource=local&referred=resultIndex',\n",
       " 'Sandwich  a_novel': 'https://westlafayette.evergreenindiana.org/GroupedWork/a8382a48-1360-e175-9829-a69e0e54b44b-eng/Home?searchId=2655868&recordIndex=11&page=1&searchSource=local&referred=resultIndex',\n",
       " 'All_the_colors_of_the_dark  a_novel': 'https://westlafayette.evergreenindiana.org/GroupedWork/a728b9e0-99e7-3c22-91f1-911b143ad980-eng/Home?searchId=2655868&recordIndex=12&page=1&searchSource=local&referred=resultIndex',\n",
       " 'The_song_of_Achilles ': 'https://westlafayette.evergreenindiana.org/GroupedWork/d1b78ee0-a09c-fce1-6d02-291db5c31a41-eng/Home?searchId=2655868&recordIndex=13&page=1&searchSource=local&referred=resultIndex',\n",
       " 'Apprentice_to_the_villain ': 'https://westlafayette.evergreenindiana.org/GroupedWork/0000f8d8-501c-f328-5d5a-43ca78286b3d-eng/Home?searchId=2655868&recordIndex=14&page=1&searchSource=local&referred=resultIndex',\n",
       " 'Think_and_grow_rich_ ': 'https://westlafayette.evergreenindiana.org/GroupedWork/b7dbf9ac-b3ce-a420-72fc-3640720b954b-eng/Home?searchId=2655868&recordIndex=15&page=1&searchSource=local&referred=resultIndex',\n",
       " 'Martyr_ ': 'https://westlafayette.evergreenindiana.org/GroupedWork/a42a4933-9792-cec7-e47d-205b4e8b36ab-eng/Home?searchId=2655868&recordIndex=16&page=1&searchSource=local&referred=resultIndex',\n",
       " 'Familiaris ': 'https://westlafayette.evergreenindiana.org/GroupedWork/6046c2eb-f891-fe91-3a34-cd78ec2f01e6-eng/Home?searchId=2655868&recordIndex=17&page=1&searchSource=local&referred=resultIndex',\n",
       " 'The_midnight_feast  a_novel': 'https://westlafayette.evergreenindiana.org/GroupedWork/664ba924-ba82-392c-7859-c517d96271b1-eng/Home?searchId=2655868&recordIndex=18&page=1&searchSource=local&referred=resultIndex',\n",
       " 'Beautyland ': 'https://westlafayette.evergreenindiana.org/GroupedWork/b9be059a-e328-8f57-7211-c7585a07a1e4-eng/Home?searchId=2655868&recordIndex=19&page=1&searchSource=local&referred=resultIndex',\n",
       " 'Yellowface ': 'https://westlafayette.evergreenindiana.org/GroupedWork/acd77ba4-7068-ffc7-7712-cf0bc169a718-eng/Home?searchId=2655868&recordIndex=20&page=1&searchSource=local&referred=resultIndex'}"
      ]
     },
     "execution_count": 4,
     "metadata": {},
     "output_type": "execute_result"
    }
   ],
   "source": [
    "test_descs"
   ]
  },
  {
   "cell_type": "code",
   "execution_count": 4,
   "id": "866a1061",
   "metadata": {},
   "outputs": [],
   "source": [
    "def getDescriptions(url_list):\n",
    "    options = webdriver.ChromeOptions()\n",
    "    # Launch Chrome:\n",
    "    driver = webdriver.Chrome(options=options)\n",
    "    result = []\n",
    "    for i in url_list:\n",
    "        driver.get(str(url_list[i]))\n",
    "        try:\n",
    "            WebDriverWait(driver, 10).until_not(\n",
    "                EC.text_to_be_present_in_element(\n",
    "                    (By.ID, 'descriptionPlaceholder'),\n",
    "                    'Loading Description...'\n",
    "                )\n",
    "            )\n",
    "        except TimeoutException:\n",
    "            print(f\"Timeout while waiting for description to load on {str(url_list[i])}\")\n",
    "            continue\n",
    "        page_source = driver.page_source\n",
    "        soup = BeautifulSoup(page_source, 'html.parser')\n",
    "        dynamic_content = soup.find('div', id='descriptionPlaceholder')\n",
    "        result.append(dynamic_content.get_text(strip=True))\n",
    "    driver.quit()\n",
    "    return result"
   ]
  },
  {
   "cell_type": "code",
   "execution_count": 5,
   "id": "fb9bad6e",
   "metadata": {},
   "outputs": [
    {
     "data": {
      "text/plain": [
       "['Describes the life and illustrious career of the writer, scientist, and statesman, from his youth in Boston to his years as a printer, his diplomatic visits abroad, and his role in the drafting of the U.S. Constitution.',\n",
       " 'Description Not Provided',\n",
       " 'The instantNew York Timesbestseller!\\xa0“Warm and perceptive.”—New York Times“Griffin Dunne knows how to tell a story.\"—Washington Post\"Dunne is a prospector for the incandescent detail.”—Los Angeles Times“What a remarkable and moving story filled with twists and turns, the most famous of faces, and a complex family revealed with loving candor. I was blown away by Griffin Dunne’s life and his ability to capture so much of it in these beautifully written pages.”—Anderson CooperGriffin Dunne’s memoir of growing up among larger-than-life characters in Hollywood and Manhattan finds wicked humor and glimmers of light in even the most painful of circumstancesAt eight, Sean Connery saved him from drowning. At thirteen, desperate to hook up with Janis Joplin, he attended his aunt Joan Didion and uncle John Gregory Dunne’s legendary LA launch party for Tom Wolfe’sThe Electric Kool-Aid Acid Test.At sixteen, he got kicked out of boarding school, ending his institutional education for good. In his early twenties, he shared an apartment in Manhattan’s Hotel Des Artistes with his best friend and soulmate Carrie Fisher while she was filming some sci-fi movie calledStar Warsand he was a struggling actor working as a popcorn concessionaire at Radio City Music Hall. A few years later, he produced and starred in the now-iconic filmAfter Hours, directed by Martin Scorsese. In the midst of it all, Griffin’s twenty-two-year-old sister, Dominique, a rising star in Hollywood, was brutally strangled to death by her ex-boyfriend, leading to one of the most infamous public trials of the 1980s. The outcome was a travesty of justice that marked the beginning of their father Dominick Dunne’s career as a crime reporter forVanity Fairand a victims\\' rights activist.And yet, for all its boldface cast of characters and jaw-dropping scenes,The Friday Afternoon Clubis no mere celebrity memoir. It is, down to its bones, a family story that embraces the poignant absurdities and best and worst efforts of its loveable, infuriating, funny, and moving characters—its author most of all.',\n",
       " 'FromNew York Timesbestselling author ofThe Perfect MarriageandYou Shouldn’t Have Come Herecomes a chilling family thriller about the (sometimes literal) skeletons in the closet.After their mother passes, three estranged siblings reunite to sort out her estate. Beth, the oldest, never left home. She stayed with her mom, caring for her until the very end. Nicole, the middle child, has been kept at arm’s length due to her ongoing battle with a serious drug addiction. Michael, the youngest, lives out of state and hasn’t been back to their small Wisconsin town since their father ran out on them seven years before.While going through their parents’ belongings, the siblings stumble upon a collection of home videos and decide to revisit those happier memories. However, the nostalgia is cut short when one of the VHS tapes reveals a night back in 1999 that none of them have any recollection of. On screen, their father appears covered in blood. What follows is a dead body and a pact between their parents to get rid of it, before the video abruptly ends.Beth, Nicole, and Michael must now decide whether to leave the past in the past or uncover the dark secret their mother took to her grave.',\n",
       " '#1 BEST BOOK OF THE CENTURY -NEW YORK TIMESNow an HBO series: the first volume in theNew York Times–bestselling “enduring masterpiece” about a lifelong friendship between two women from Naples (The Atlantic).Beginning in the 1950s in a poor but vibrant neighborhood on the outskirts of Naples, Elena Ferrante’s four-volume story spans almost sixty years, as its main characters, the fiery and unforgettable Lila and the bookish narrator, Elena, become women, wives, mothers, and leaders, all the while maintaining a complex and at times conflicted friendship. This first novel in the series follows Lila and Elena from their fateful meeting as ten-year-olds through their school years and adolescence.Through the lives of these two women, Ferrante tells the story of a neighborhood, a city, and a country as it is transformed in ways that, in turn, also transform the relationship between two women. “An intoxicatingly furious portrait of enmeshed friends.”—Entertainment Weekly“Spectacular.”—Maureen Corrigan,NPR’s Fresh Air“Captivating.”—The New Yorker#1 BEST BOOK OF THE CENTURY -NEW YORK TIMESNow an HBO series: the first volume in theNew York Times–bestselling “enduring masterpiece” about a lifelong friendship between two women from Naples (The Atlantic).Beginning in the 1950s in a poor but vibrant neighborhood on the outskirts of Naples, Elena Ferrante’s four-volume story spans almost sixty years, as its main characters, the fiery and unforgettable Lila and the bookish narrator, Elena, become women, wives, mothers, and leaders, all the while maintaining a complex and at times conflicted friendship. This first novel in the series follows Lila and Elena from their fateful meeting as ten-year-olds through their school years and adolescence.Through the lives of these two women, Ferrante tells the story of a neighborhood, a city, and a country as it is transformed in ways that, in turn, also transform the relationship between two women. “An intoxicatingly furious portrait of enmeshed friends.”—Entertainment Weekly“Spectacular.”—Maureen Corrigan,NPR’s Fresh Air“Captivating.”—The New Yorker',\n",
       " 'NATIONAL BESTSELLER •\\xa0An exhilarating novel about one American family and the dark moment that shatters their suburban paradise, from theNew York Timesbestselling author ofFleishman Is in TroubleNew York Times Book ReviewEditors’ Choice •New YorkMagazine’s Beach Read Book Club Pick • Belletrist Book Club Pick“A big, juicy, wickedly funny social satire.”—Oprah Daily“Were we gangsters? No. But did we know how to start a fire?”In 1980, a wealthy businessman named Carl Fletcher is kidnapped from his driveway, brutalized, and held for ransom. He is returned to his wife and kids less than a week later, only slightly the worse, and the family moves on with their lives, resuming their prized places in the saga of the American dream, comforted in the realization that though their money may have been what endangered them, it is also what assured them their safety.But now, nearly forty years later, it’s clear that perhaps nobody ever got over anything, after all. Carl has spent the ensuing years secretly seeking closure to the matter of his kidnapping, while his wife, Ruth, has spent her potential protecting her husband’s emotional health. Their three grown children aren’t doing much better: Nathan’s chronic fear won’t allow him to advance at his law firm; Beamer, a Hollywood screenwriter, will consume anything—substance, foodstuff, women—in order to numb his own perpetual terror; and Jenny has spent her life so bent on proving that she’s not a product of her family’s pathology that she has come to define it. As they hover at the delicate precipice of a different kind of survival, they learn that the family fortune has dwindled to just about nothing, and they must face desperate questions about how much their wealth has played a part in both their lives’ successes and failures.Long Island Compromisespans the entirety of one family’s history, winding through decades and generations, all the way to the outrageous present, and confronting the mainstays of American Jewish life: tradition, the pursuit of success, the terror of history, fear of the future, old wives’ tales, evil eyes, ambition, achievement, boredom, dybbuks, inheritance, pyramid schemes, right-wing capitalists, beta-blockers, psychics, and the mostly unspoken love and shared experience that unite a family forever.',\n",
       " \"Over 5 million copies sold around the world. The original book from Morgan Housel, the New York Times bestselling author ofSame As Ever.Doing well with money isn't necessarily about what you know. It's about how you behave. And behavior is hard to teach, even to really smart people.Money – investing, personal finance, and business decisions – is typically taught as a math-based field, where data and formulas tell us exactly what to do. But in the real world people don't make financial decisions on a spreadsheet. They make them at the dinner table, or in a meeting room, where personal history, your own unique view of the world, ego, pride, marketing, and odd incentives are scrambled together.InThe Psychology of Money, award-winning author Morgan Housel shares 19 short stories exploring the strange ways people think about money and teaches you how to make better sense of one of life's most important topics.\",\n",
       " 'Amoral, cunning, ruthless, and instructive,\\xa0this multi-million-copyNew York Timesbestselleris the definitive manual for anyone interested in gaining, observing, or defending against ultimate control – from the author ofThe Laws of Human Nature.In the book thatPeoplemagazine proclaimed “beguiling” and “fascinating,” Robert Greene and Joost Elffers have distilled three thousand years of the history of power into 48 essential laws by drawing from the philosophies of Machiavelli, Sun Tzu, and Carl Von Clausewitz and also from the lives of figures ranging from Henry Kissinger to P.T. Barnum. \\xa0 Some laws teach the need for prudence (“Law 1: Never Outshine the Master”), others teach the value of confidence (“Law 28: Enter Action with Boldness”), and many recommend absolute self-preservation (“Law 15: Crush Your Enemy Totally”). Every law, though, has one thing in common: an interest in total domination. In a bold and arresting two-color package,The 48 Laws of Poweris ideal whether your aim is conquest, self-defense, or simply to understand the rules of the game.',\n",
       " 'From the nationally bestselling author of the “powerful, heartbreaking” (Shelf Awareness)The Stationery Shop, a heartfelt, epic new novel of friendship, betrayal, and redemption set against three transformative decades in Tehran, Iran.In 1950s Tehran, seven-year-old Ellie lives in grand comfort until the untimely death of her father, forcing Ellie and her mother to move to a tiny home downtown. Lonely and bearing the brunt of her mother’s endless grievances, Ellie dreams of a friend to alleviate her isolation. Luckily, on the first day of school, she meets Homa, a kind, passionate girl with a brave and irrepressible spirit. Together, the two girls play games, learn to cook in the stone kitchen of Homa’s warm home, wander through the colorful stalls of the Grand Bazaar, and share their ambitions for becoming “lion women.” But their happiness is disrupted when Ellie and her mother are afforded the opportunity to return to their previous bourgeois life. Now a popular student at the best girls’ high school in Iran, Ellie’s memories of Homa begin to fade. Years later, however, her sudden reappearance in Ellie’s privileged world alters the course of both of their lives. Together, the two young women come of age and pursue their own goals for meaningful futures. But as the political turmoil in Iran builds to a breaking point, one earth-shattering betrayal will have enormous consequences. Written with Marjan Kamali’s signature “evocative, devastating, and hauntingly beautiful” (Whitney Scharer, author ofThe Age of Light) prose,The Lion Women of Tehranis a sweeping exploration of how profoundly we are shaped by those we meet when we are young, and the way love and courage transforms our lives.',\n",
       " 'THE INSTANT #1 SUNDAY TIMES BESTSELLERAGood Housekeeping\"Book We\\'re Most Looking Forward To\"* AnIndependent Today\"Best Fiction Books to Read\" * AGQ Magazine (UK)\"Best Book of 2024\"\\xa0* AHarper’s Bazaar (UK)\"Best Novels to Read\" * ADaily Record\"Best Novel\"\"Captivating [and] flawless...An affectingly hard-won romance. [Michael is] a sturdy and slyly amusing authority figure, … flailing amid the debris of a loving marriage gone sour. Marnie is a compulsively witty, winningly cranky near-agoraphobe...Both protagonists are prickly, smart and desperately yearning, but utterly guarded for understandably good reasons. Nicholls builds his own erotic and at times wrenchingly emotional suspense as the would-be lovers reveal past mishaps and surrendered dreams... As in the best romances, we cherish Michael’s and Marnie’s difficult personalities, and relish the unlikely process that might bring them together. The novel is sharp-tongued and irresistible.\"—New York Times Book Review\"I finished this novel in two breathless sittings, as invested in its outcome as I would be in\\xa0the happiness of a friend. This is the magic ofYou Are Here: warm, generous and funny, it invites readers into the world of Marnie and Michael with the promise that everyone is welcome, and that choosing happiness and being courageous in any small way we can is always possible. I loved this book.\" — Kaliane\\xa0Bradley, author ofThe Ministry of TimeFrom the internationally bestselling and Booker Prize-longlisted author ofOne Day, one of the most enduring love stories of its generation, comes an uplifting and unputdownable love story about second chances.Sometimes you need to get lost to find your way . . .Michael is coming undone. Adrift after his wife\\'s departure, he has begun taking himself on long, solitary walks across the English countryside. Becoming ever more reclusive, he’ll do anything to avoid his empty house.Marnie, on the other hand, is stuck. Hiding alone in her London flat, she avoids old friends and any reminders of her rotten, selfish ex-husband. Curled up with a good book, she’s battling the long afternoons of a life that feels like it’s passing her by.When a persistent mutual friend and some very unpredictable weather conspire to toss Michael and Marnie together on the most epic of ten-day hikes, neither of them can think of anything worse. Until, of course, they discover exactly what they’ve been looking for.Michael and Marnie are on the precipice of a bright future . . . if they can survive the journey.A hilarious, hopeful, and heartwarming love story—the novel belovedNew York Timesbestselling author David Nicholls calls “my funniest book yet”—You Are Hereis a bittersweet and hopeful story of first encounters, second chances, and finding the way home.',\n",
       " 'INSTANTNEW YORK TIMESBESTSELLER“Sandwichis joy in book form. I laughed continuously, except for the parts that made me cry. Catherine Newman does a miraculous job reminding us of all the wonder there is to be found in life.\"—Ann Patchett,New York Timesbestselling author ofTom Lake“If\\xa0you like my novels, you will love love love this . . . . I stand in awe, it’s just perfect.”—Elin Hilderbrand,\\xa0#1New York Timesbestselling author ofSwan Song“A total delight.”—Kate ChristensenFrom the beloved author ofWe All Want Impossible Things, a moving, hilarious story of a family summer vacation full of secrets, lunch, and learning to let go.For the past two decades, Rocky has looked forward to her family’s yearly escape to Cape Cod. Their humble beach-town rental has been the site of sweet memories, sunny days, great meals, and messes of all kinds: emotional, marital, and—thanks to the cottage’s ancient plumbing—septic too.This year’s vacation, with Rocky sandwiched between her half-grown kids and fully aging parents, promises to be just as delightful as summers past—except, perhaps, for Rocky’s hormonal bouts of rage and melancholy. (Hello, menopause!) Her body is changing—her life is, too. And then a chain of events sends Rocky into the past, reliving both the tenderness and sorrow of a handful of long-ago summers.It\\'s one precious week: everything is in balance; everything is in flux. And when Rocky comes face to face with her family’s history and future, she is forced to accept that she can no longer hide her secrets from the people she loves.',\n",
       " 'NEW YORK TIMESBESTSELLER • From the author ofWe Begin at the Endcomes a soaring thriller and an epic love story that “hits like a sledgehammer . . . an absolutely must-read novel” (Gillian Flynn, author ofGone Girl).Read with Jenna Book Club Pick as Featured onTodayThe Boston Globe’s #1 Thriller/Mystery of 2024 So FarOne ofThe Washington Post’s Best Books of Summer“Kept me frantically turning the pages and somehow made me cry at the end . . . Brava!”—Kristin Hannah, author ofThe Women“Melds tense suspense with a powerful exploration of devotion, obsession, and love.”—People(Best New Books)1975 is a time of change in America. The Vietnam War is ending. Muhammad Ali is fighting Joe Frazier. And in the smalltown of Monta Clare, Missouri, girls are disappearing.When the daughter of a wealthy family is targeted, the most unlikely hero emerges—Patch, a local boy, who saves the girl, and, in doing so, leaves heartache in his wake.Patch and those who love him soon discover that the line between triumph and tragedy has never been finer. And that their search for answers will lead them to truths that could mean losing one another.A missing person mystery, a serial killer thriller, a love story, a unique twist on each, Chris Whitaker has written a novel about what lurks in the shadows of obsession and the blinding light of hope.',\n",
       " \"Now Available in HardcoverANew York TimesBestseller'At once a scholar's homage toThe Iliadand startlingly original work of art'.A book I could not put down.'\\xa0'Ann Patchett, author ofThe Dutch HouseA thrilling, profoundly moving, and utterly unique retelling of the legend of Achilles and the Trojan War from the bestselling author ofCirceA tale of gods, kings, immortal fame, and the human heart,The Song of Achillesis a dazzling literary feat that brilliantly reimagines Homer's enduring masterwork,The Iliad. An action-packed adventure, an epic love story, a marvelously conceived and executed page-turner, Miller's monumental debut novel has already earned resounding acclaim from some of contemporary fiction's brightest lights'and fans of Mary Renault, Bernard Cornwell, Steven Pressfield, and Colleen McCullough's Masters of Rome series will delight in this unforgettable journey back to ancient Greece in the Age of Heroes.'mary Renault lives again!'\\xa0\\xa0'Emma Donoghue, author ofRoom\",\n",
       " 'LIMITED FIRST PRINT RUN?featuring spray-painted edges, while supplies last in the US and Canada only.\"An engaging love story about finding strength in vulnerability.\" ?Kirkus ReviewsThe Instant New York Times Bestseller!NOTICE TO STAFF: There has been a disturbing increase in cheeriness, sprightly behavior, and overall optimism of late. Please resume your former dark, ominous terrors at your earliest convenience. —MgmtEvie Sage has never been happier to be the assistant to The Villain. Who would have thought that working for an outrageously handsome (shhh, bad for his brand) evil overlord would be so rewarding? Still, the business of being bad is demanding, the forces of good are annoyingly persistent, and said forbidding boss is somewhat…er,out-of-evil-office.But Rennedawn is in grave trouble, and all signs—Kingsley’s included—point to catastrophe. Something peculiar is happening with the kingdom’s magic, and it’s made The Villain’s manor vulnerable to their enemies...including their nemesis, the king.Now it’s time for Evie to face her greatest challenge: protecting The Villain’s lair, all of his nefarious works, and maybe (provided no one finds out) the entire kingdom.No pressure, Evie.It’s time to step out of her comfort zone and learn new skills. Like treason. Dagger work. Conspiring with the enemy. It’s all so…so…delightfully fun.But what happens when the assistant to The Villain is ready to become his apprentice? The Assistant and the Villain series is best enjoyed in order.Reading Order:Book #1 Assistant to the VillainBook #2 Apprentice to the Villain',\n",
       " 'One of the greatest self-help books ever written, this deluxe edition of the classic work, Think and Grow Rich, includes a 21st century study guide filled with practices and exercises that will flood your conscious and subconscious mind, heart, and soul, with positive energy and life-enhancing ideas. Napoleon Hill was a consultant living in the White House when FDR was leading the nation through the Great Depression. It was while he was there, that Hill wrote Think and Grow Rich. More than twenty years before, Hill was commissioned by the richest man in the world at the time, Andrew Carnegie, to interview five hundred of the most successful people in the country, and develop a philosophy of success. He wanted to inspire ordinary people and give them direction in life. Carnegie thought it was a shame that the accumulated know-how of each successful man went to the grave with him and that every person had to learn through the hard process of trial and error every time. With this book, you can start a journey of self-discovery. Be all you are capable of as you begin on your way to accumulating all of the riches that you desire.',\n",
       " \"NEW YORK TIMESBESTSELLER •\\xa0NAMED A BEST BOOK OF THE YEAR SO FAR FOR 2024 BYTHE NEW YORK TIMES BOOK REVIEW•\\xa0A newly sober, orphaned son of Iranian immigrants, guided by the voices of artists, poets, and kings, embarks on a\\xa0remarkable\\xa0search\\xa0for a family secret\\xa0that leads him to a terminally ill painter living out her final days in the Brooklyn Museum.\\xa0Electrifying, funny, and wholly original, Martyr!heralds the arrival of an essential new voice in contemporary fiction.“Kaveh Akbar is one of my favorite writers. Ever.” —Tommy Orange, Pulitzer Prize–nominated author ofThere There“The best novel you'll ever read about the joy of language, addiction, displacement, martyrdom, belonging, homesickness.” —Lauren Groff, best-selling author ofMatrixandFates and FuriesCyrus Shams is a young man grappling with an inheritance of violence and loss: his mother’s plane was shot down over the skies of the Persian Gulf in a senseless accident; and his father’s life in America was circumscribed by his work killing chickens at a factory farm in the Midwest. Cyrus is a drunk, an addict, and a poet, whose obsession with martyrs leads him to examine the mysteries of his past—toward an uncle who rode through Iranian battlefields dressed as the angel of death to inspire and comfort the dying, and toward his mother, through a painting discovered in a Brooklyn art gallery that suggests she may not have been who or what she seemed.Kaveh Akbar’sMartyr!is a paean to how we spend our lives seeking meaning—in faith, art, ourselves, others.\",\n",
       " 'The follow-up to the beloved #1New York Timesbestselling modern classicThe Story of Edgar Sawtelle,Familiarisis the stirring origin story of the Sawtelle family and the remarkable dogs that carry the Sawtelle name.It is spring 1919, and John Sawtelle’s imagination has gotten him into trouble … again. Now John and his newlywed wife, Mary, along with their two best friends and their three dogs, are setting off for Wisconsin’s northwoods, where they hope to make a fresh start—and, with a little luck, discover what it takes to live a life of meaning, purpose, and adventure. But the place they are headed for is far stranger and more perilous than they realize, and it will take all their ingenuity, along with a few new friends—human, animal, and otherworldly—to realize their dreams.By turns hilarious and heartbreaking, mysterious and enchanting,Familiaristakes readers on an unforgettable journey from the halls of a small-town automobile factory, through an epic midwestern firestorm and an ambitious WWII dog-training program, and far back into mankind’s ancient past, examining the dynamics of love and friendship, the vexing nature of families, the universal desire to create something lasting and beautiful, and of course, the species-long partnership betweenHomo sapiensandCanis familiaris.',\n",
       " '“Irresistible…Blair Witchmeets Fyre Festival.” –People\"Sharp, stylish and stunning...Foley\\'s best yet.\" -- Chris Whitaker,New York Timesbestselling author ofAll the Colors of the Dark“A deliciously juicy, smartly paced blend of folk horror, psychological thriller, and social satire… Thoroughly satisfying.” --AirMailSecrets. Lies.Murder.Let the festivities begin…It’s the opening night of The Manor, the newest and hottest luxury resort, and no expense, small or large, has been spared. The infinity pool sparkles; the “Manor Mule” cocktail (grapefruit, ginger, vodka, and a dash of CBD oil) is being poured with a heavy hand. Everyone is wearing linen.But under the burning midsummer sun, darkness stirs. Old friends and enemies circulate among the guests. Just outside the Manor’s immaculately kept grounds, an ancient forest bristles with secrets. And it’s not too long before the local police are called. Turns out the past has crashed the party, with deadly results.THE GIRLBOSS · THE HUSBAND · THE KITCHEN HELP · THE MYSTERY GUESTEveryone’s got a secret. Everyone’s got an agenda. But not everyone will survive…The Midnight Feast“Agatha Christie for the Instagram age.” –Guardian',\n",
       " 'A Dakota Johnson x TeaTime Book Club PickA Best Book of the Year:The New York Times Book Review,Time,Elle,Esquire, Goodreads, and WBEZ ChicagoA Must-Read:Nylon,The Boston Globe,San Francisco Chronicle,Chicago Review of Books,Literary Hub,The Millions,Kirkus Reviews,BookRiot,The Christian Science Monitor,Our Culture,The Saturday Evening Post, Philadelphiamagazine“A monumental accomplishment, a shimmering masterpiece.”—Michael Schaub,The Boston Globe“A book that I will recommend to people for the rest of my life.”—Dakota Johnson,BustleFrom the acclaimed author ofParakeet, Marie-Helene Bertino’sBeautylandis a wise, tender novel about a woman who doesn’t feel at home on Earth.At the moment when Voyager 1 is launched into space carrying its famous golden record, a baby of unusual perception is born to a single mother in Philadelphia. Adina Giorno is tiny and jaundiced, but she reaches for warmth and light. As a child, she recognizes that she is different: She possesses knowledge of a faraway planet. The arrival of a fax machine enables her to contact her extraterrestrial relatives, beings who have sent her to report on the oddities of Earthlings. For years, as she moves through the world and makes a life for herself among humans, she dispatches transmissions on the terrors and surprising joys of their existence. Then, at a precarious moment, a beloved friend urges Adina to share her messages with the world. Is there a chance she is not alone?Marie-Helene Bertino’sBeautylandis a novel of startling originality about the fragility and resilience of life on our Earth and in our universe. It is a remarkable evocation of the feeling of being in exile at home, and it introduces a gentle, unforgettable alien for our times.',\n",
       " \"INSTANTNEW YORK TIMESBESTSELLER • A REESE'S BOOK CLUB PICK“Hard to put down, harder to forget.”—Stephen King, #1New York Timesbestselling authorWhite lies. Dark humor. Deadly consequences… Bestselling sensation Juniper Song is not who she says she is, she didn’t write the book she claims she wrote, and she is most certainlynotAsian American—in this chilling and hilariously cutting novel from R.F. Kuang, the #1New York Timesbestselling author ofBabel.Authors June Hayward and Athena Liu were supposed to be twin rising stars. But Athena’s a literary darling. June Hayward is literally nobody. Who wants stories about basic white girls, June thinks.So when June witnesses Athena’s death in a freak accident, she acts on impulse: she steals Athena’s just-finished masterpiece, an experimental novel about the unsung contributions of Chinese laborers during World War I.So what if June edits Athena’s novel and sends it to her agent as her own work? So what if she lets her new publisher rebrand her as Juniper Song—complete with an ambiguously ethnic author photo? Doesn’t this piece of history deserve to be told, whoever the teller? That’s what June claims, and theNew York Timesbestseller list seems to agree.But June can’t get away from Athena’s shadow, and emerging evidence threatens to bring June’s (stolen) success down around her. As June races to protect her secret, she discovers exactly how far she will go to keep what she thinks she deserves.With its totally immersive first-person voice,Yellowfacegrapples with questions of diversity, racism, and cultural appropriation, as well as the terrifying alienation of social media. R.F. Kuang’s novel is timely, razor-sharp, and eminently readable.\"]"
      ]
     },
     "execution_count": 5,
     "metadata": {},
     "output_type": "execute_result"
    }
   ],
   "source": [
    "getDescriptions(test_descs)"
   ]
  },
  {
   "cell_type": "code",
   "execution_count": null,
   "id": "a1ea0254",
   "metadata": {},
   "outputs": [],
   "source": []
  }
 ],
 "metadata": {
  "kernelspec": {
   "display_name": "Python 3 (ipykernel)",
   "language": "python",
   "name": "python3"
  },
  "language_info": {
   "codemirror_mode": {
    "name": "ipython",
    "version": 3
   },
   "file_extension": ".py",
   "mimetype": "text/x-python",
   "name": "python",
   "nbconvert_exporter": "python",
   "pygments_lexer": "ipython3",
   "version": "3.12.0"
  }
 },
 "nbformat": 4,
 "nbformat_minor": 5
}
